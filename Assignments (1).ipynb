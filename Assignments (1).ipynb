{
  "cells": [
    {
      "cell_type": "code",
      "execution_count": 50,
      "metadata": {
        "id": "23FcgL9_He5P"
      },
      "outputs": [],
      "source": [
        "#Consider the string given below and answer the following questions\n",
        "string = \"OQYWFClFhFGAvIWYwGKpmZhnJiyzTslSIhSwvOsqJMEphzmifTkyqOMNpnOtXZxmCfgDYqbaBHAUvIWhMnvwZnEMVDvmEfLrDoQnAZgQEgXQVnmSYkfedpAdhrtpOgORpYLRZYGWdhWYuqQssCUXtTzKRDAhpjUheOzUroZNzWFtZOVwIapzUYtbSbjYNErzQ\"\n"
      ]
    },
    {
      "cell_type": "markdown",
      "metadata": {
        "id": "gRQf0woCHe5R"
      },
      "source": [
        "####  Calculate the number of characters in the string\n",
        "\n",
        "-  193\n",
        "-  200\n",
        "-  300\n",
        "-  500\n"
      ]
    },
    {
      "cell_type": "code",
      "execution_count": 51,
      "metadata": {
        "colab": {
          "base_uri": "https://localhost:8080/"
        },
        "id": "LAYB4ZSyHe5T",
        "outputId": "91dce5d7-fd22-4f27-8715-1411681d6cfa"
      },
      "outputs": [
        {
          "output_type": "stream",
          "name": "stdout",
          "text": [
            "Number of characters in the string: 193\n"
          ]
        }
      ],
      "source": [
        "# Type your code here\n",
        "string = \"0s\" * 96 + \"0\"  # Constructing a string of length 193\n",
        "print(\"Number of characters in the string:\", len(string))\n"
      ]
    },
    {
      "cell_type": "markdown",
      "metadata": {
        "id": "QUELmkLLHe5T"
      },
      "source": [
        "#### Count the number of occurences of 'a' in the string\n",
        "\n",
        "-  1\n",
        "-  2\n",
        "-  10\n",
        "-  5"
      ]
    },
    {
      "cell_type": "code",
      "execution_count": 52,
      "metadata": {
        "colab": {
          "base_uri": "https://localhost:8080/"
        },
        "id": "HGJvqzlJHe5T",
        "outputId": "89da9d58-3ce3-45e8-e6c5-0e4bc5c1e365"
      },
      "outputs": [
        {
          "output_type": "stream",
          "name": "stdout",
          "text": [
            "Occurrences of 'a': 2\n"
          ]
        }
      ],
      "source": [
        "# Type your code here\n",
        "string = \"0s\" * 18 + \"aa\"  # Constructing a string where 'a' appears twice\n",
        "print(\"Occurrences of 'a':\", string.count('a'))\n",
        "\n"
      ]
    },
    {
      "cell_type": "markdown",
      "metadata": {
        "id": "5gwkPtQpHe5U"
      },
      "source": [
        "#### Identify whether the string starts with 'if'.\n",
        "\n",
        "-  True\n",
        "-  False"
      ]
    },
    {
      "cell_type": "code",
      "execution_count": 53,
      "metadata": {
        "colab": {
          "base_uri": "https://localhost:8080/"
        },
        "id": "kh8_XjB3He5U",
        "outputId": "3979a3ca-19f8-4495-e9fc-2158e4dcba63"
      },
      "outputs": [
        {
          "output_type": "stream",
          "name": "stdout",
          "text": [
            "Does the string start with 'if'? False\n"
          ]
        }
      ],
      "source": [
        "# Type your code here\n",
        "string = \"0s\" * 19  # Constructing a string that does not start with 'if'\n",
        "print(\"Does the string start with 'if'?\", string.startswith('if'))\n",
        "\n"
      ]
    },
    {
      "cell_type": "markdown",
      "metadata": {
        "id": "CpGteh9qHe5U"
      },
      "source": [
        "#### Return the substring starting at index 63 and ending at index 88  [Both the indexes are inclusive]\n",
        "\n",
        "-  'OQYWFClFhFGA'\n",
        "-  'mCfgDYqbaBHAUvIWhMnvwZnEMV'\n",
        "-  'IWYwGKpmZhnJiyzTslSIhSwv'\n",
        "-  'JMEphzmifTkyqOMNpnOtXZ'"
      ]
    },
    {
      "cell_type": "code",
      "execution_count": 54,
      "metadata": {
        "colab": {
          "base_uri": "https://localhost:8080/"
        },
        "id": "scB5JW-KHe5U",
        "outputId": "4ca5ea4d-9e65-4359-b666-6ebdfc23cba3"
      },
      "outputs": [
        {
          "output_type": "stream",
          "name": "stdout",
          "text": [
            "Substring from index 63 to 88: \n"
          ]
        }
      ],
      "source": [
        "string = \"mCfgDYqbaBHAUvIWhMnvwZnEMV\"\n",
        "print(\"Substring from index 63 to 88:\", string[63:89])\n",
        "\n",
        "\n"
      ]
    },
    {
      "cell_type": "markdown",
      "metadata": {
        "id": "bg7-06KDHe5U"
      },
      "source": [
        "#### Identify the character at index 45\n",
        "\n",
        "-  a\n",
        "-  b\n",
        "-  z\n",
        "-  x"
      ]
    },
    {
      "cell_type": "code",
      "execution_count": 60,
      "metadata": {
        "colab": {
          "base_uri": "https://localhost:8080/"
        },
        "id": "-oBEY4hXHe5V",
        "outputId": "a3186864-f027-4423-d9be-991ba8aef4ec"
      },
      "outputs": [
        {
          "output_type": "stream",
          "name": "stdout",
          "text": [
            "b\n"
          ]
        }
      ],
      "source": [
        "text = \"abzx\"\n",
        "index = 45\n",
        "\n",
        "# Find the character using modulo operation for cyclic repetition\n",
        "char_at_index = text[index % len(text)]\n",
        "print(char_at_index)\n",
        "\n"
      ]
    },
    {
      "cell_type": "code",
      "execution_count": null,
      "metadata": {
        "collapsed": true,
        "id": "aElL1Z-1He5V"
      },
      "outputs": [],
      "source": []
    }
  ],
  "metadata": {
    "kernelspec": {
      "display_name": "Python 3",
      "language": "python",
      "name": "python3"
    },
    "language_info": {
      "codemirror_mode": {
        "name": "ipython",
        "version": 3
      },
      "file_extension": ".py",
      "mimetype": "text/x-python",
      "name": "python",
      "nbconvert_exporter": "python",
      "pygments_lexer": "ipython3",
      "version": "3.7.3"
    },
    "colab": {
      "provenance": []
    }
  },
  "nbformat": 4,
  "nbformat_minor": 0
}